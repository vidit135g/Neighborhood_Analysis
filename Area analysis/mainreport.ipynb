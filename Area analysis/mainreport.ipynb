{
 "cells": [
  {
   "cell_type": "markdown",
   "metadata": {},
   "source": [
    "# Final Report | Capstone Project – The Battle of Neighborhoods Finding a Better Place in Scarborough, Toronto"
   ]
  },
  {
   "cell_type": "markdown",
   "metadata": {},
   "source": [
    "##  1. Introduction:"
   ]
  },
  {
   "cell_type": "markdown",
   "metadata": {},
   "source": [
    "The primary goal of this project is to help people in exploring their neighborhoods in order to find the best things out there.For this report, we will focus on Scarborough, Toranto neighborhood only.\n",
    "\n",
    "There are so many migrants in different states of Canada who had to settle themselves for which they had to do a lot of research. The research here comprises of good prices for housing, good schools, best places to buy grocery etc. This project is for those people who are looking for the best places and the best availabilities within an area. Other applications may include shopping malls, super stores, schools, cafe, medical shops, hospital etc. This project helps in creating an enhanced analysis and study of features for the migrants of Scarbough in order to search for the best neighborhood.\n",
    "\n",
    "The features include the median house price and better schools on the basis of the number of ratings and scores. We will also try to focus on the crime rates of the particular area, roads, weather and availability of resources. It will help people be aware of their area and the neighborhood before actually moving to that city."
   ]
  },
  {
   "cell_type": "markdown",
   "metadata": {},
   "source": [
    "## 2. Data Section"
   ]
  },
  {
   "cell_type": "markdown",
   "metadata": {},
   "source": [
    "Data Link: https://en.wikipedia.org/wiki/List_of_postal_codes_of_Canada:_M\n",
    "\n",
    "Will use Scarborough dataset which we scrapped. Dataset consisting of latitude and longitude, zip codes.\n",
    "\n",
    "<b>Foursquare API Data:</b>\n",
    "\n",
    "We have used the Foreqsuare API ( Free Version ) because of the fcat that it has a large database comprising of a lot of info about dfferent places and different areas.Especially their places API which provides the ability to perform location search, location sharing and details about a business.\n",
    "\n",
    "After finding the list of neighborhoods, we then connect to the Foursquare API to gather information about venues inside each and every neighborhood. For each neighborhood, we have chosen the radius to be 100 meter.\n",
    "\n",
    "The data retrieved from Foursquare contained information of venues within a specified distance of the longitude and latitude of the postcodes. The information obtained per venue as follows:\n",
    "\n",
    "1. Neighborhood\n",
    "2. Neighborhood Latitude\n",
    "3. Neighborhood Longitude\n",
    "4. Venue\n",
    "5. Name of the venue e.g. the name of a store or restaurant\n",
    "6. Venue Latitude\n",
    "7. Venue Longitude\n",
    "8. Venue Category\n",
    "\n",
    "<b>Map of Scarborough</b>\n",
    "\n",
    "<img src=\"https://raw.githubusercontent.com/vidit135g/Coursera_Capstone/master/1.PNG\"/>\n",
    "\n",
    "## 3. Methodology Section\n",
    "\n",
    "Clustering Approach:\n",
    "To compare the similarities of two cities, we decided to explore neighborhoods, segment them, and group them into clusters to find similar neighborhoods in a big city like New York and Toronto. To be able to do that, we need to cluster data which is a form of unsupervised machine learning: k-means clustering algorithm.\n",
    "\n",
    "<b>Using K-Means Clustering Approach and most common venues in neighborhood.</b>\n",
    "\n",
    "<img src=\"https://raw.githubusercontent.com/vidit135g/Coursera_Capstone/master/2.PNG\"/>\n",
    "\n",
    "Using credentials of Foursquare API features of near-by places of the neighborhoods would be mined. Due to http request limitations the number of places per neighborhood parameter would reasonably be set to 100 and the radius parameter would be set to 500.\n",
    "\n",
    "## 4. Results Section\n",
    "\n",
    "<b>Map of Clusters in Scarborough</b>\n",
    "\n",
    "\n",
    "<img src=\"https://raw.githubusercontent.com/vidit135g/Coursera_Capstone/master/3.PNG\"/>\n",
    "\n",
    "<b>Average Housing Price by Clusters in Scarborough</b>\n",
    "\n",
    "\n",
    "<img src=\"https://raw.githubusercontent.com/vidit135g/Coursera_Capstone/master/4.PNG\"/>\n",
    "\n",
    "<b>School Ratings by Clusters in Scarborough</b>\n",
    "\n",
    "<img src=\"https://raw.githubusercontent.com/vidit135g/Coursera_Capstone/master/5.PNG\"/>\n",
    "\n",
    "Being an administartive division of Toronto, Scarborough is a popular destination for immigrants. Scarborough is a popular destination for new immigrants in Canada to reside. As a result, it is one of the most diverse and multicultural areas in the Greater Toronto Area, being home to various religious groups and places of worship. It includes a number of natural landmarks, including the Toronto Zoo, Rouge Park and the Scarborough Bluffs. The northeast corner of Scarborough is largely rural with some of Toronto’s last remaining farms, earning Scarborough its reputation of being greener than any other part of Toronto.\n",
    "\n",
    "### Foursquare API\n",
    "\n",
    "We have used the Foreqsuare API ( Free Version ) because of the fcat that it has a large database comprising of a lot of info about dfferent places and different areas.Especially their places API which provides the ability to perform location search, location sharing and details about a business.\n",
    "\n",
    "## 5. Discussion Section\n",
    "\n",
    "<b>Problems to solve</b>\n",
    "\n",
    "As stated previously, the major goal of this project is the proper analysis of different neighborhoods on the basis of different factors in order to help the migrants or common people to select a place for their respective need.\n",
    "\n",
    "1.Sorted list of house in terms of housing prices in respective orders\n",
    "2.Sorted list of schools in terms of location, fees, rating and reviews\n",
    "\n",
    "## 6. Conclusion Section\n",
    "\n",
    "There are so many migrants in different states of Canada who had to settle themselves for which they had to do a lot of research. The research here comprises of good prices for housing, good schools, best places to buy grocery etc. This project is for those people who are looking for the best places and the best availabilities within an area. Other applications may include shopping malls, super stores, schools, cafe, medical shops, hospital etc. This project helps in creating an enhanced analysis and study of features for the migrants of Scarbough in order to search for the best neighborhood.\n",
    "\n",
    "Using the K-means algorithm I separated the neighborhood into ten different clusters. Using the charts given, we can clearly conclude the right rating for avg school rating and the house prices.\n",
    "\n",
    "I feel that completing all of the courses helped me learn a lot of new things which I didn't even had the clue about. This project has helped me to learn about various applications of data science in practical life. Tools such as Folium, numpy, pandas and nominatim are extremely useful to make the task less complex.\n",
    "\n",
    "## Future scope\n",
    "\n",
    "This is just a beginning, as a lot of more features can be integrated to this project. Not just avg. housing prices and school rates, we can also add other broad categories as well, some of them are:\n",
    "\n",
    "Popular areas for nightlife.\n",
    "Nearest government hospitals.\n",
    "Popular areas for car washing.\n",
    "\n",
    "and the list goes on.\n",
    "\n",
    "### Libraries used in this project\n",
    "\n",
    "Pandas: For creating and manipulating dataframes.\n",
    "\n",
    "Folium: Python visualization library would be used to visualize the neighborhoods cluster distribution of using interactive leaflet map.\n",
    "\n",
    "Scikit Learn: For importing k-means clustering.\n",
    "\n",
    "JSON: Library to handle JSON files.\n",
    "\n",
    "XML: To separate data from presentation and XML stores data in plain text format.\n",
    "\n",
    "Geocoder: To retrieve Location Data.\n",
    "\n",
    "Beautiful Soup and Requests: To scrap and library to handle http requests.\n",
    "\n",
    "Matplotlib: Python Plotting Module.\n"
   ]
  }
 ],
 "metadata": {
  "kernelspec": {
   "display_name": "Python 3",
   "language": "python",
   "name": "python3"
  },
  "language_info": {
   "codemirror_mode": {
    "name": "ipython",
    "version": 3
   },
   "file_extension": ".py",
   "mimetype": "text/x-python",
   "name": "python",
   "nbconvert_exporter": "python",
   "pygments_lexer": "ipython3",
   "version": "3.7.3"
  }
 },
 "nbformat": 4,
 "nbformat_minor": 2
}
